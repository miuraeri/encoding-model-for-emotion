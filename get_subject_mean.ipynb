{
 "cells": [
  {
   "cell_type": "code",
   "execution_count": 41,
   "metadata": {},
   "outputs": [],
   "source": [
    "# import\n",
    "import numpy as np\n",
    "import cortex\n",
    "import nibabel as nib\n",
    "from nipy import load_image\n",
    "from PIL import Image\n",
    "import os"
   ]
  },
  {
   "cell_type": "markdown",
   "metadata": {},
   "source": [
    "# 平均予測脳活動 (セクション毎)"
   ]
  },
  {
   "cell_type": "code",
   "execution_count": 44,
   "metadata": {},
   "outputs": [],
   "source": [
    "# sub_id_list = [18,22,23,24,28,30,31,35,36,37,38,39,41,42,43,44,45,46,47,48,49,50,51,52,53] # alice all\n",
    "# sub_id_list = [18,22,28,35,36,37,39,41,42,45,52,58,62,63,64,68,75,76,77,86,87,88,89,91,92,101,106,108,109,114] # male\n",
    "# sub_id_list = [18,22,28,35,36,37,39,41,42,45,52] # alice male\n",
    "# sub_id_list = [58,62,63,64,68,75,76,77,86,87,88,89,91,92,101,106,108,109,114] # LPP male\n",
    "# sub_id_list = [23,24,30,31,38,43,44,46,47,48,49,50,51,53,57,61,62,65,67,69,70,72,73,74,78,79,81,82,83,84,93,94,95,96,97,98,99,100,103,104,105,110,113,115] # female\n",
    "# sub_id_list = [23,24,30,31,38,43,44,46,47,48,49,50,51,53] # alice female\n",
    "sub_id_list = [57,61,62,65,67,69,70,72,73,74,78,79,81,82,83,84,93,94,95,96,97,98,99,100,103,104,105,110,113,115] # LPP female\n",
    "# sub_id_list = [57,58,61,62,63,64,65,67,68,69,70,72,73,74,75,76,77,78,79,81,82,83,84,86,87,\n",
    "#                88,89,91,92,93,94,95,96,97,98,99,100,101,103,104,105,106,108,109,110,113,114,115] #LPP all\n",
    "\n",
    "target_subject=\"sub-22\"\n",
    "section = 9 #Alice の場合は5\n",
    "\n",
    "roi_image_path = \"/home/sync/brain/pycortex_project/resource/Alice/\"+target_subject+\"/label/\""
   ]
  },
  {
   "cell_type": "code",
   "execution_count": 3,
   "metadata": {},
   "outputs": [],
   "source": [
    "def min_max_normalization(a, axis=None):\n",
    "    a_min = a.min(axis=axis, keepdims=True)\n",
    "    a_max = a.max(axis=axis, keepdims=True)\n",
    "    return (a - a_min) / (a_max - a_min)"
   ]
  },
  {
   "cell_type": "code",
   "execution_count": null,
   "metadata": {},
   "outputs": [],
   "source": [
    "for i in range(section):\n",
    "    data_path = \"/home/sync/brain/src/all_subject_mean/data/LittlePrince/run_\"+str(i+1)+\"/\"\n",
    "    # data_path = \"/home/sync/brain/src/all_subject_mean/data/Alice/run_\"+str(i+1)+\"/\"\n",
    "    img_path = \"/home/sync/brain/src/all_subject_mean/image/LittlePrince/run_\"+str(i+1)+\"/\"\n",
    "    # img_path = \"/home/sync/brain/src/all_subject_mean/image/Alice/run_\"+str(i+1)+\"/\"\n",
    "    for j,sub_id in enumerate(sub_id_list):\n",
    "        if sub_id >= 100:\n",
    "            subject = \"sub_EN\"+str(sub_id)\n",
    "        elif sub_id > 53:\n",
    "            subject = \"sub_EN0\"+str(sub_id)\n",
    "        else:\n",
    "            subject = \"sub-\"+str(sub_id)\n",
    "        new_ver = np.load(data_path+subject+\".npy\")\n",
    "        new_ver = min_max_normalization(new_ver)\n",
    "        dv = cortex.Vertex(new_ver, target_subject, cmap=\"hot\", vmax=new_ver.max(), vmin=new_ver.min())\n",
    "        fig_sub = cortex.quickflat.make_png(img_path+subject+'.png',dv, with_colorbar=False)\n",
    "\n",
    "        if j == 0:\n",
    "            mean_all_subject = new_ver\n",
    "        else:\n",
    "            mean_all_subject += new_ver\n",
    "\n",
    "    mean_all_subject = mean_all_subject / (len(sub_id_list))\n",
    "    vmax= np.amax(mean_all_subject)\n",
    "    vmin = np.amin(mean_all_subject)\n",
    "    # np.save(data_path+\"all_subject\",mean_all_subject)\n",
    "    # np.save(data_path+\"male_subjects\",mean_all_subject)\n",
    "    np.save(data_path+\"female_subjects\",mean_all_subject)\n",
    "\n",
    "    dv_all = cortex.Vertex(mean_all_subject, target_subject, cmap=\"hot\", vmax=vmax, vmin=vmin)\n",
    "    # fig_all = cortex.quickflat.make_png(img_path+'all_subject_mean.png',dv_all, with_colorbar=False)\n",
    "    # fig_all = cortex.quickflat.make_png(img_path+'male_subjects_mean.png',dv_all, with_colorbar=False)\n",
    "    fig_all = cortex.quickflat.make_png(img_path+'female_subjects_mean.png',dv_all, with_colorbar=False)\n",
    "\n",
    "    brain_img = Image.open(img_path+'female_subjects_mean.png') # 今保存したflatmap\n",
    "    contour_img = Image.open(roi_image_path+\"/roi_contours.png\") # 輪郭抽出した画像\n",
    "\n",
    "    # 重ねて、保存し直します\n",
    "    brain_img.paste(contour_img, (0, 0), contour_img)\n",
    "    brain_img.save(img_path+'female_subjects_mean.png')"
   ]
  },
  {
   "cell_type": "markdown",
   "metadata": {},
   "source": [
    "## 全セクション平均"
   ]
  },
  {
   "cell_type": "markdown",
   "metadata": {},
   "source": [
    "## Alice"
   ]
  },
  {
   "cell_type": "code",
   "execution_count": 23,
   "metadata": {},
   "outputs": [
    {
     "name": "stdout",
     "output_type": "stream",
     "text": [
      "Failed to get connection\n",
      "** (inkscape:95114): CRITICAL **: 16:49:48.476: dbus_g_proxy_new_for_name: assertion 'connection != NULL' failed\n",
      "** (inkscape:95114): CRITICAL **: 16:49:48.476: dbus_g_proxy_call: assertion 'DBUS_IS_G_PROXY (proxy)' failed\n",
      "** (inkscape:95114): CRITICAL **: 16:49:48.476: dbus_g_connection_register_g_object: assertion 'connection != NULL' failed\n"
     ]
    }
   ],
   "source": [
    "for i in range(5):\n",
    "    # new_ver = np.load(\"/home/sync/brain/src/all_subject_mean/data/Alice/run_\"+str(i+1)+\"/all_subject.npy\")\n",
    "    new_ver = np.load(\"/home/sync/brain/src/all_subject_mean/data/Alice/run_\"+str(i+1)+\"/male_subjects.npy\")\n",
    "    # new_ver = np.load(\"/home/sync/brain/src/all_subject_mean/data/Alice/run_\"+str(i+1)+\"/female_subjects.npy\")\n",
    "    if i == 0:\n",
    "        mean_all_subject_all_run = new_ver\n",
    "    else:\n",
    "        mean_all_subject_all_run += new_ver\n",
    "\n",
    "mean_all_subject_all_run = mean_all_subject_all_run / 5\n",
    "# mean_all_subject_all_run = np.mean(mean_all_subject_all_run,axis=0) # allのときだけon\n",
    "\n",
    "img_path = \"/home/sync/brain/src/all_subject_mean/image/Alice/mean/\"\n",
    "dv_all = cortex.Vertex(mean_all_subject_all_run, target_subject, cmap=\"hot\", vmax=mean_all_subject_all_run.max(), vmin=0)\n",
    "# fig_all = cortex.quickflat.make_png(img_path+'all_subject_mean.png',dv_all, with_colorbar=False)\n",
    "fig_all = cortex.quickflat.make_png(img_path+'male_subjects.png',dv_all, with_colorbar=False)\n",
    "# fig_all = cortex.quickflat.make_png(img_path+'female_subjects.png',dv_all, with_colorbar=False)  "
   ]
  },
  {
   "cell_type": "markdown",
   "metadata": {},
   "source": [
    "## LittlePrince"
   ]
  },
  {
   "cell_type": "code",
   "execution_count": null,
   "metadata": {},
   "outputs": [],
   "source": [
    "for i in range(9):\n",
    "    new_ver = np.load(\"/home/sync/brain/src/all_subject_mean/data/LittlePrince/run_\"+str(i+1)+\"/all_subject.npy\")\n",
    "    # new_ver = np.load(\"/home/sync/brain/src/all_subject_mean/data/LittlePrince/run_\"+str(i+1)+\"/male_subjects.npy\")\n",
    "    # new_ver = np.load(\"/home/sync/brain/src/all_subject_mean/data/LittlePrince/run_\"+str(i+1)+\"/female_subjects.npy\")\n",
    "    if i == 0:\n",
    "        mean_all_subject_all_run = new_ver\n",
    "    else:\n",
    "        mean_all_subject_all_run += new_ver\n",
    "\n",
    "mean_all_subject_all_run = mean_all_subject_all_run / 9\n",
    "# mean_all_subject_all_run = np.mean(mean_all_subject_all_run,axis=0) # allのときだけon\n",
    "\n",
    "img_path = \"/home/sync/brain/src/all_subject_mean/image/LittlePrince/mean/\"\n",
    "dv_all = cortex.Vertex(mean_all_subject_all_run, target_subject, cmap=\"hot\", vmax=mean_all_subject_all_run.max(), vmin=0)\n",
    "fig_all = cortex.quickflat.make_png(img_path+'all_subject_mean.png',dv_all, with_colorbar=False)\n",
    "# fig_all = cortex.quickflat.make_png(img_path+'male_subjects.png',dv_all, with_colorbar=False)\n",
    "# fig_all = cortex.quickflat.make_png(img_path+'female_subjects.png',dv_all, with_colorbar=False)  "
   ]
  },
  {
   "cell_type": "markdown",
   "metadata": {},
   "source": [
    "# 女性被験者平均 - 男性被験者平均"
   ]
  },
  {
   "cell_type": "markdown",
   "metadata": {},
   "source": [
    "## Alice"
   ]
  },
  {
   "cell_type": "code",
   "execution_count": 48,
   "metadata": {},
   "outputs": [
    {
     "name": "stdout",
     "output_type": "stream",
     "text": [
      "Failed to get connection\n",
      "** (inkscape:65597): CRITICAL **: 01:34:53.270: dbus_g_proxy_new_for_name: assertion 'connection != NULL' failed\n",
      "** (inkscape:65597): CRITICAL **: 01:34:53.270: dbus_g_proxy_call: assertion 'DBUS_IS_G_PROXY (proxy)' failed\n",
      "** (inkscape:65597): CRITICAL **: 01:34:53.270: dbus_g_connection_register_g_object: assertion 'connection != NULL' failed\n"
     ]
    }
   ],
   "source": [
    "for i in range(5):\n",
    "    # new_ver = np.load(\"/home/sync/brain/src/all_subject_mean/data/Alice/run_\"+str(i+1)+\"/all_subject.npy\")\n",
    "    new_ver_m = np.load(\"/home/sync/brain/src/all_subject_mean/data/Alice/run_\"+str(i+1)+\"/male_subjects.npy\")\n",
    "    new_ver_f = np.load(\"/home/sync/brain/src/all_subject_mean/data/Alice/run_\"+str(i+1)+\"/female_subjects.npy\")\n",
    "    if i == 0:\n",
    "        mean_all_subject_all_run_m = new_ver_m\n",
    "        mean_all_subject_all_run_f = new_ver_f\n",
    "    else:\n",
    "        mean_all_subject_all_run_m += new_ver_m\n",
    "        mean_all_subject_all_run_f += new_ver_f\n",
    "\n",
    "mean_all_subject_all_run_m = mean_all_subject_all_run_m / 5\n",
    "mean_all_subject_all_run_f = mean_all_subject_all_run_f / 5\n",
    "diff = mean_all_subject_all_run_f - mean_all_subject_all_run_m\n",
    "\n",
    "img_path = \"/home/sync/brain/src/all_subject_mean/image/Alice/mean/\"\n",
    "dv_all = cortex.Vertex(diff, target_subject, cmap=\"bwr\", vmax=mean_all_subject_all_run.max(), vmin=-mean_all_subject_all_run.max())\n",
    "fig_all = cortex.quickflat.make_png(img_path+'f-m.png',dv_all, with_colorbar=False)\n",
    "\n",
    "brain_img = Image.open(img_path+'f-m.png') # 保存したflatmap\n",
    "contour_img = Image.open(roi_image_path+\"/roi_contours.png\") # 輪郭抽出した画像\n",
    "\n",
    "# 重ねて、保存し直します\n",
    "brain_img.paste(contour_img, (0, 0), contour_img)\n",
    "brain_img.save(img_path+'f-m.png')"
   ]
  },
  {
   "cell_type": "markdown",
   "metadata": {},
   "source": [
    "## LittlePrince"
   ]
  },
  {
   "cell_type": "code",
   "execution_count": 49,
   "metadata": {},
   "outputs": [
    {
     "name": "stdout",
     "output_type": "stream",
     "text": [
      "Failed to get connection\n",
      "** (inkscape:65727): CRITICAL **: 01:35:08.445: dbus_g_proxy_new_for_name: assertion 'connection != NULL' failed\n",
      "** (inkscape:65727): CRITICAL **: 01:35:08.445: dbus_g_proxy_call: assertion 'DBUS_IS_G_PROXY (proxy)' failed\n",
      "** (inkscape:65727): CRITICAL **: 01:35:08.445: dbus_g_connection_register_g_object: assertion 'connection != NULL' failed\n"
     ]
    }
   ],
   "source": [
    "for i in range(9):\n",
    "    # new_ver = np.load(\"/home/sync/brain/src/all_subject_mean/data/Alice/run_\"+str(i+1)+\"/all_subject.npy\")\n",
    "    new_ver_m = np.load(\"/home/sync/brain/src/all_subject_mean/data/LittlePrince/run_\"+str(i+1)+\"/male_subjects.npy\")\n",
    "    new_ver_f = np.load(\"/home/sync/brain/src/all_subject_mean/data/LittlePrince/run_\"+str(i+1)+\"/female_subjects.npy\")\n",
    "    if i == 0:\n",
    "        mean_all_subject_all_run_m = new_ver_m\n",
    "        mean_all_subject_all_run_f = new_ver_f\n",
    "    else:\n",
    "        mean_all_subject_all_run_m += new_ver_m\n",
    "        mean_all_subject_all_run_f += new_ver_f\n",
    "\n",
    "mean_all_subject_all_run_m = mean_all_subject_all_run_m / 5\n",
    "mean_all_subject_all_run_f = mean_all_subject_all_run_f / 5\n",
    "diff = mean_all_subject_all_run_f - mean_all_subject_all_run_m\n",
    "\n",
    "img_path = \"/home/sync/brain/src/all_subject_mean/image/LittlePrince/mean/\"\n",
    "dv_all = cortex.Vertex(diff, target_subject, cmap=\"bwr\", vmax=mean_all_subject_all_run.max(), vmin=-mean_all_subject_all_run.max())\n",
    "fig_all = cortex.quickflat.make_png(img_path+'f-m.png',dv_all, with_colorbar=False)\n",
    "\n",
    "brain_img = Image.open(img_path+'f-m.png') # 保存したflatmap\n",
    "contour_img = Image.open(roi_image_path+\"/roi_contours.png\") # 輪郭抽出した画像\n",
    "\n",
    "# 重ねて、保存し直します\n",
    "brain_img.paste(contour_img, (0, 0), contour_img)\n",
    "brain_img.save(img_path+'f-m.png')"
   ]
  }
 ],
 "metadata": {
  "kernelspec": {
   "display_name": "Python 3",
   "language": "python",
   "name": "python3"
  },
  "language_info": {
   "codemirror_mode": {
    "name": "ipython",
    "version": 3
   },
   "file_extension": ".py",
   "mimetype": "text/x-python",
   "name": "python",
   "nbconvert_exporter": "python",
   "pygments_lexer": "ipython3",
   "version": "3.8.18"
  }
 },
 "nbformat": 4,
 "nbformat_minor": 2
}
